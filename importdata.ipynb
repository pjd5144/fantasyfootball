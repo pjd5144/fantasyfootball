{
 "cells": [
  {
   "cell_type": "code",
   "execution_count": 2,
   "metadata": {},
   "outputs": [],
   "source": [
    "import nflgame\n",
    "import csv\n",
    "import os\n",
    "#Define a list for every week in the NFL regular season\n",
    "weeks = [1,2,3,4,5,6,7,8,9,10,11,12,13,14,15,16,17]\n",
    "#For every week in the weeks list, grab the player game logs and create a csv file for each week\n",
    "for week in weeks:\n",
    "    nflgame.combine(nflgame.games(2017, week=week)).csv(str(week)+'.csv')\n",
    "#The previous function created an empty row between each row of data. The function below brings back in every csv, removes the empty rows, and creates new csv files\n",
    "\n",
    "for week in weeks:\n",
    "    input = open(str(week)+'.csv', 'rb')\n",
    "    output = open('Week'+str(week)+'.csv', 'wb')\n",
    "    writer = csv.writer(output)\n",
    "for row in csv.reader(input):\n",
    "    if row:\n",
    "        writer.writerow(row)\n",
    "input.close()\n",
    "output.close()\n",
    "#Delete unused csv files\n",
    "for week in weeks:\n",
    "    os.remove(str(week)+'.csv')"
   ]
  }
 ],
 "metadata": {
  "kernelspec": {
   "display_name": "Python 2",
   "language": "python",
   "name": "python2"
  },
  "language_info": {
   "codemirror_mode": {
    "name": "ipython",
    "version": 2
   },
   "file_extension": ".py",
   "mimetype": "text/x-python",
   "name": "python",
   "nbconvert_exporter": "python",
   "pygments_lexer": "ipython2",
   "version": "2.7.14"
  }
 },
 "nbformat": 4,
 "nbformat_minor": 2
}
