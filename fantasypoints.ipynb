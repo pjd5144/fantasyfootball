{
 "cells": [
  {
   "cell_type": "code",
   "execution_count": 1,
   "metadata": {},
   "outputs": [],
   "source": [
    "import pandas as pd"
   ]
  },
  {
   "cell_type": "code",
   "execution_count": 117,
   "metadata": {},
   "outputs": [],
   "source": [
    "def passing_points(df):\n",
    "    pass_points = (df['passing_yds']/25 - df['passing_ints']*2 +\n",
    "                   df['passing_tds']*4 + df['passing_twoptm']*2)\n",
    "    return pass_points\n",
    "\n",
    "def rushing_points(df):\n",
    "    rush_points = (df['rushing_yds']/10 + df['rushing_tds']*6 + \n",
    "                   df['rushing_twoptm']*2 - df['fumbles_lost']*2)\n",
    "    return rush_points\n",
    "\n",
    "def receiving_points(df):\n",
    "    receive_points = df['receiving_yds']/10 + df['receiving_tds']*6 + df['receiving_twoptm']*2\n",
    "    return receive_points\n",
    "\n",
    "def total_points(df):\n",
    "    pass_points = passing_points(df)\n",
    "    rush_points = rushing_points(df)\n",
    "    receive_points = receiving_points(df)\n",
    "    tot_points = pass_points + rush_points + receive_points\n",
    "    return tot_points\n",
    "def reduce_dataframe(filename,week,position):\n",
    "    df = pd.read_csv(filename)\n",
    "    df2 = df.fillna(0)\n",
    "    df2['wk'+str(week)+'_points'] = total_points(df2)\n",
    "    df2 = df2.sort_values('id')\n",
    "    df2 = df2.loc[df2['pos']==position]\n",
    "    df3 = df2.loc[:,['id','name','wk'+str(week)+'_points']]\n",
    "    return df3"
   ]
  },
  {
   "cell_type": "code",
   "execution_count": 126,
   "metadata": {},
   "outputs": [],
   "source": [
    "position = 'TE' # values are 'QB','RB','TE','WR'\n",
    "df1 = reduce_dataframe('1.csv',1,position)\n",
    "df1=df1.set_index(['id','name'])\n",
    "weeks = [2,3,4,5,6,7,8,9,10,11,12,13,14,15,16,17]\n",
    "for week in weeks:\n",
    "    df = reduce_dataframe(str(week)+'.csv',week,position)\n",
    "    df = df.set_index(['id','name'])\n",
    "    df1 = df1.join(df)\n",
    "df1.to_csv(position+'_points.csv')"
   ]
  }
 ],
 "metadata": {
  "kernelspec": {
   "display_name": "Python 2",
   "language": "python",
   "name": "python2"
  },
  "language_info": {
   "codemirror_mode": {
    "name": "ipython",
    "version": 2
   },
   "file_extension": ".py",
   "mimetype": "text/x-python",
   "name": "python",
   "nbconvert_exporter": "python",
   "pygments_lexer": "ipython2",
   "version": "2.7.14"
  }
 },
 "nbformat": 4,
 "nbformat_minor": 2
}
